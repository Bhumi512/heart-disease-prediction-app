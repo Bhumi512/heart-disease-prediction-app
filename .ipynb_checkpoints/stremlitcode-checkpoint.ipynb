{
 "cells": [
  {
   "cell_type": "code",
   "execution_count": 1,
   "id": "1ed1cc06-c13d-4915-9357-bc1e95d0d0a4",
   "metadata": {},
   "outputs": [
    {
     "name": "stderr",
     "output_type": "stream",
     "text": [
      "2024-11-22 11:47:00.410 \n",
      "  \u001b[33m\u001b[1mWarning:\u001b[0m to view this Streamlit app on a browser, run it with the following\n",
      "  command:\n",
      "\n",
      "    streamlit run C:\\Users\\HP\\Desktop\\jupyter\\Lib\\site-packages\\ipykernel_launcher.py [ARGUMENTS]\n",
      "2024-11-22 11:47:00.425 Session state does not function when running a script without `streamlit run`\n"
     ]
    }
   ],
   "source": [
    "import streamlit as st\n",
    "import numpy as np\n",
    "import pickle\n",
    "\n",
    "# Load the pre-trained model\n",
    "with open('heart_disease_model.pkl', 'rb') as file:\n",
    "    model = pickle.load(file)\n",
    "\n",
    "# Streamlit app\n",
    "st.title(\"Heart Disease Prediction\")\n",
    "\n",
    "# Collect user input\n",
    "age = st.number_input('Age', min_value=1, max_value=120, value=30)\n",
    "sex = st.selectbox('Sex', options=[0, 1])\n",
    "chest_pain = st.selectbox('Chest Pain Type', options=[1, 2, 3, 4])\n",
    "bp = st.number_input('Blood Pressure', min_value=90, max_value=200, value=120)\n",
    "cholesterol = st.number_input('Cholesterol', min_value=100, max_value=600, value=200)\n",
    "fbs = st.selectbox('Fasting Blood Sugar > 120 mg/dl', options=[0, 1])\n",
    "ekg = st.selectbox('Electrocardiographic results', options=[0, 1, 2])\n",
    "max_hr = st.number_input('Maximum Heart Rate', min_value=60, max_value=220, value=150)\n",
    "exercise_angina = st.selectbox('Exercise Induced Angina', options=[0, 1])\n",
    "st_depression = st.number_input('ST Depression', min_value=0.0, max_value=10.0, value=0.0)\n",
    "slope_st = st.selectbox('Slope of the peak exercise ST segment', options=[1, 2, 3])\n",
    "num_vessels = st.selectbox('Number of Major Vessels (0-3)', options=[0, 1, 2, 3])\n",
    "thallium = st.selectbox('Thallium Stress Test Result', options=[3, 6, 7])\n",
    "\n",
    "# Prediction button\n",
    "if st.button('Predict Heart Disease'):\n",
    "    # Prepare the input data\n",
    "    input_data = np.array([[age, sex, chest_pain, bp, cholesterol, fbs, ekg, max_hr, exercise_angina, st_depression, slope_st, num_vessels, thallium]])\n",
    "\n",
    "    # Make prediction\n",
    "    prediction = model.predict(input_data)\n",
    "\n",
    "    # Display the prediction\n",
    "    if prediction == 1:\n",
    "        st.write(\"The model predicts the presence of heart disease.\")\n",
    "    else:\n",
    "        st.write(\"The model predicts the absence of heart disease.\")"
   ]
  },
  {
   "cell_type": "code",
   "execution_count": null,
   "id": "6eb85591-0856-4fde-9586-06f42d7be611",
   "metadata": {},
   "outputs": [],
   "source": []
  }
 ],
 "metadata": {
  "kernelspec": {
   "display_name": "Python 3 (ipykernel)",
   "language": "python",
   "name": "python3"
  },
  "language_info": {
   "codemirror_mode": {
    "name": "ipython",
    "version": 3
   },
   "file_extension": ".py",
   "mimetype": "text/x-python",
   "name": "python",
   "nbconvert_exporter": "python",
   "pygments_lexer": "ipython3",
   "version": "3.12.7"
  }
 },
 "nbformat": 4,
 "nbformat_minor": 5
}
